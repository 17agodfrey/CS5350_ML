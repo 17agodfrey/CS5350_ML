{
 "cells": [
  {
   "cell_type": "code",
   "execution_count": 2,
   "metadata": {},
   "outputs": [
    {
     "name": "stdout",
     "output_type": "stream",
     "text": [
      "pygame 2.5.2 (SDL 2.28.3, Python 3.11.9)\n",
      "Hello from the pygame community. https://www.pygame.org/contribute.html\n"
     ]
    }
   ],
   "source": [
    "import numpy as np\n",
    "import pandas as pd\n",
    "import random\n",
    "import matplotlib.pyplot as plt"
   ]
  },
  {
   "cell_type": "code",
   "execution_count": 3,
   "metadata": {},
   "outputs": [],
   "source": [
    "\n",
    "BOW_train = pd.read_csv('../project_data/data/bag-of-words/bow.train.csv').replace({'label': {0: -1}})\n",
    "BOW_test = pd.read_csv('../project_data/data/bag-of-words/bow.test.csv').replace({'label': {0: -1}})\n",
    "BOW_eval = pd.read_csv('../project_data/data/bag-of-words/bow.eval.anon.csv').replace({'label': {0: -1}})"
   ]
  },
  {
   "cell_type": "code",
   "execution_count": null,
   "metadata": {},
   "outputs": [],
   "source": [
    "glove_train = pd.read_csv('../project_data/data/glove/glove.train.csv').replace({'label': {0: -1}})\n",
    "glove_test = pd.read_csv('../project_data/data/glove/glove.test.csv').replace({'label': {0: -1}})\n",
    "glove_eval = pd.read_csv('../project_data/data/glove/glove.eval.anon.csv').replace({'label': {0: -1}})"
   ]
  },
  {
   "cell_type": "code",
   "execution_count": null,
   "metadata": {},
   "outputs": [],
   "source": [
    "tfidf_train = pd.read_csv('../project_data/data/tfidf/tfidf.train.csv').replace({'label': {0: -1}})    \n",
    "tfidf_test = pd.read_csv('../project_data/data/tfidf/tfidf.test.csv').replace({'label': {0: -1}})\n",
    "tfidf_eval = pd.read_csv('../project_data/data/tfidf/tfidf.eval.anon.csv').replace({'label': {0: -1}})\n"
   ]
  },
  {
   "cell_type": "code",
   "execution_count": null,
   "metadata": {},
   "outputs": [],
   "source": [
    "def eval_guesses_to_csv(w, data, filename):\n",
    "    examples = []\n",
    "    guesses = []\n",
    "    i = 0\n",
    "    # majority_label = dtID3.determine_majority_label(data)\n",
    "    for row in data.iterrows():\n",
    "        examples.append(i)\n",
    "        # print(row[1].shape)\n",
    "        # print(a.shape)\n",
    "        # print(a)\n",
    "        guessLabel = 1/(1+np.exp(-np.dot(w.T, row[1].values))) ## sigmoid, this should give us the probablity that the label is 1\n",
    "        if guessLabel > .5:\n",
    "            guesses.append(1)\n",
    "        else:\n",
    "            guesses.append(0)\n",
    "        i += 1\n",
    "    examples_df = pd.DataFrame(examples, columns=['example_id'])\n",
    "    guesses_df = pd.DataFrame(guesses, columns=['label'])\n",
    "    guesses_df = pd.concat([examples_df, guesses_df], axis=1)\n",
    "    guesses_df.to_csv(filename, index=False)"
   ]
  },
  {
   "cell_type": "code",
   "execution_count": 9,
   "metadata": {},
   "outputs": [],
   "source": [
    "def Logistic_SGD(train_data, train_labels, LR_0, sig2, T, threshold, show_plot=False):\n",
    "    N = len(train_data)\n",
    "    num_features = len(train_data[0])\n",
    "    w = np.zeros(num_features)  # Add one dimension for the bias term (w0), this is already accounting for that \n",
    "    LR_t = LR_0\n",
    "    prev_logistic_obj = None\n",
    "    logistic_loss_values = []\n",
    "    for t in range(T):\n",
    "        # pick a random data point\n",
    "        i = random.randint(0, N-1)\n",
    "        xi = train_data[i] \n",
    "        yi = train_labels[i]\n",
    "        LR_t = LR_0 / (1 + t)\n",
    "\n",
    "        # calculate the gradient\n",
    "        z = -yi * np.dot(w.T, xi)\n",
    "        if z < -100:\n",
    "            sigmoid_term = 0\n",
    "        elif z > 100:\n",
    "            sigmoid_term = 1\n",
    "        else:\n",
    "            sigmoid_term = 1 / (1 + np.exp(-z))\n",
    "            # sigmoid_term = np.exp(z)  \n",
    "        term1 = -yi * xi * (1 - sigmoid_term)     \n",
    "        term2 = (2 / sig2) * w\n",
    "        gradient = term1 + term2\n",
    "        # gradient = sigmoid_term / (1 + sigmoid_term) * yi*xi\n",
    "        gradient = np.clip(gradient, -1000, 1000)\n",
    "\n",
    "        # update w\n",
    "        LRxgradient = LR_t * gradient\n",
    "        w = w - LR_t * gradient\n",
    "\n",
    "        logistic_obj = 0\n",
    "        for i in range(N):\n",
    "            yi = train_labels[i]\n",
    "            xi = train_data[i]\n",
    "            z = yi * np.dot(w.T, xi)\n",
    "            z = np.clip(z, -100, 100)\n",
    "            \n",
    "            logistic_obj += np.log(1 + np.exp(-z)) + (1 / sig2) * np.dot(w, w)\n",
    "        logistic_obj = logistic_obj / N\n",
    "        logistic_loss_values.append(logistic_obj)\n",
    "\n",
    "        if prev_logistic_obj is None:\n",
    "            prev_logistic_obj = logistic_obj\n",
    "            continue\n",
    "\n",
    "        # stop iterating if change in logistic objective is smaller than threshold\n",
    "        log_diff = abs(prev_logistic_obj - logistic_obj)\n",
    "        if log_diff < threshold:\n",
    "            break\n",
    "        prev_logistic_obj = logistic_obj\n",
    "\n",
    "    if show_plot:\n",
    "        plt.plot(logistic_loss_values)\n",
    "        plt.xlabel('Epoch')\n",
    "        plt.ylabel('Logistic Loss')\n",
    "        plt.title('Logistic Loss vs. Epoch')\n",
    "        plt.xticks(range(len(logistic_loss_values)), range(1, len(logistic_loss_values) + 1))  # Set x-ticks to be epoch numbers\n",
    "        plt.show()\n",
    "    return w"
   ]
  },
  {
   "cell_type": "code",
   "execution_count": null,
   "metadata": {},
   "outputs": [],
   "source": [
    "def CV_logistic (train_folds, sig2, LR_0, T, logistic_obj_threshold):\n",
    "    accuracy = 0\n",
    "    for i in range(5):\n",
    "        test_data = train_folds[i].drop('label', axis=1).values\n",
    "        test_labels = train_folds[i]['label'].values\n",
    "        train_data = pd.concat([train_folds[j] for j in range(5) if j != i]).drop('label', axis=1).values\n",
    "        train_labels = pd.concat([train_folds[j] for j in range(5) if j != i])['label'].values\n",
    "        w = Logistic_SGD(train_data, train_labels, LR_0, sig2, T, logistic_obj_threshold)\n",
    "        N = len(test_data)\n",
    "        majority_label = np.sign(np.sum(test_labels))\n",
    "        correct = 0\n",
    "        predict_0 = 0\n",
    "        predict_1 = 0\n",
    "        acutal_0 = 0    \n",
    "        acutal_1 = 0\n",
    "        for i in range(N):\n",
    "            # this is where we need to do the false/true positive/negative stuff\n",
    "            xi = test_data[i]\n",
    "            z = np.dot(w.T, xi)\n",
    "            z = np.clip(z, -100, 100)\n",
    "            prediction = 1 / (1 + np.exp(-z))  # Sigmoid function\n",
    "            actual = test_labels[i]\n",
    "            \n",
    "            if actual == 1:\n",
    "                acutal_1 += 1\n",
    "            else:\n",
    "                actual = 0\n",
    "                acutal_0 += 1\n",
    "                \n",
    "            if prediction > .5: \n",
    "                prediction = 1\n",
    "                predict_1 += 1\n",
    "            if prediction == .5: \n",
    "                if majority_label == 1:\n",
    "                    prediction = 1\n",
    "                    predict_1 += 1\n",
    "                else :\n",
    "                    prediction = 0\n",
    "                    predict_0 += 1\n",
    "            else: \n",
    "                prediction = 0\n",
    "                predict_0 += 1\n",
    "                \n",
    "            if prediction == actual:\n",
    "                correct += 1\n",
    "        accuracy += correct/N\n",
    "        # print(\"-----------------\")\n",
    "        # print(\"predict_0: \", predict_0)\n",
    "        # print(\"predict_1: \", predict_1)\n",
    "        # print(\"acutal_0: \", acutal_0)\n",
    "        # print(\"acutal_1: \", acutal_1)\n",
    "        # print(\"correct: \", correct)\n",
    "        # print(\"total: \", N)\n",
    "        # print(\"round accuracy: \", correct/N)\n",
    "    return accuracy/5"
   ]
  },
  {
   "cell_type": "markdown",
   "metadata": {},
   "source": [
    "------ BOW -------"
   ]
  },
  {
   "cell_type": "code",
   "execution_count": 12,
   "metadata": {},
   "outputs": [
    {
     "name": "stdout",
     "output_type": "stream",
     "text": [
      "    bias  x1  x2  label\n",
      "0    0.1   1   1      1\n",
      "1    0.1   1   1      1\n",
      "2    0.1   0   0     -1\n",
      "3    0.1   1   1      1\n",
      "4    0.1   0   0     -1\n",
      "..   ...  ..  ..    ...\n",
      "95   0.1   0   1     -1\n",
      "96   0.1   1   1      1\n",
      "97   0.1   0   0     -1\n",
      "98   0.1   1   0     -1\n",
      "99   0.1   0   0     -1\n",
      "\n",
      "[100 rows x 4 columns]\n",
      "LR_0 = 1, sig2 = 0.1, avg_accuracy = 0.75\n",
      "LR_0 = 1, sig2 = 1, avg_accuracy = 0.75\n",
      "LR_0 = 1, sig2 = 10, avg_accuracy = 0.75\n",
      "LR_0 = 1, sig2 = 100, avg_accuracy = 0.75\n",
      "LR_0 = 1, sig2 = 1000, avg_accuracy = 0.75\n",
      "LR_0 = 1, sig2 = 10000, avg_accuracy = 0.75\n",
      "LR_0 = 0.1, sig2 = 0.1, avg_accuracy = 0.75\n",
      "LR_0 = 0.1, sig2 = 1, avg_accuracy = 0.75\n",
      "LR_0 = 0.1, sig2 = 10, avg_accuracy = 0.75\n",
      "LR_0 = 0.1, sig2 = 100, avg_accuracy = 0.75\n",
      "LR_0 = 0.1, sig2 = 1000, avg_accuracy = 0.75\n",
      "LR_0 = 0.1, sig2 = 10000, avg_accuracy = 0.75\n",
      "LR_0 = 0.01, sig2 = 0.1, avg_accuracy = 0.75\n",
      "LR_0 = 0.01, sig2 = 1, avg_accuracy = 0.75\n",
      "LR_0 = 0.01, sig2 = 10, avg_accuracy = 0.75\n",
      "LR_0 = 0.01, sig2 = 100, avg_accuracy = 0.75\n",
      "LR_0 = 0.01, sig2 = 1000, avg_accuracy = 0.75\n",
      "LR_0 = 0.01, sig2 = 10000, avg_accuracy = 0.75\n",
      "LR_0 = 0.001, sig2 = 0.1, avg_accuracy = 0.75\n",
      "LR_0 = 0.001, sig2 = 1, avg_accuracy = 0.75\n",
      "LR_0 = 0.001, sig2 = 10, avg_accuracy = 0.75\n",
      "LR_0 = 0.001, sig2 = 100, avg_accuracy = 0.75\n",
      "LR_0 = 0.001, sig2 = 1000, avg_accuracy = 0.75\n",
      "LR_0 = 0.001, sig2 = 10000, avg_accuracy = 0.75\n",
      "LR_0 = 0.0001, sig2 = 0.1, avg_accuracy = 0.75\n",
      "LR_0 = 0.0001, sig2 = 1, avg_accuracy = 0.75\n",
      "LR_0 = 0.0001, sig2 = 10, avg_accuracy = 0.75\n",
      "LR_0 = 0.0001, sig2 = 100, avg_accuracy = 0.75\n",
      "LR_0 = 0.0001, sig2 = 1000, avg_accuracy = 0.75\n",
      "LR_0 = 0.0001, sig2 = 10000, avg_accuracy = 0.75\n",
      "LR_0 = 1e-05, sig2 = 0.1, avg_accuracy = 0.75\n",
      "LR_0 = 1e-05, sig2 = 1, avg_accuracy = 0.75\n",
      "LR_0 = 1e-05, sig2 = 10, avg_accuracy = 0.75\n",
      "LR_0 = 1e-05, sig2 = 100, avg_accuracy = 0.75\n",
      "LR_0 = 1e-05, sig2 = 1000, avg_accuracy = 0.75\n",
      "LR_0 = 1e-05, sig2 = 10000, avg_accuracy = 0.75\n"
     ]
    }
   ],
   "source": [
    "LR_0_arr = [1, .1, .01, .001, .0001, .00001]\n",
    "sig2_arr = [.1, 1, 10, 100, 1000, 10000]\n",
    "T = 10\n",
    "Logistic_obj_threshold = .001\n",
    "bestHyperparameters = {\"LR_0\": 0, \"sig2\": 0, \"avg_accuracy\": 0}\n",
    "\n",
    "# data = {\n",
    "#     'x1': [0, 1, 0, 1, 1],\n",
    "#     'x2': [0, 0, 1, 1, 1],\n",
    "# }\n",
    "data = {\n",
    "    'x1': [random.randint(0, 1) for _ in range(100)],\n",
    "    'x2': [random.randint(0, 1) for _ in range(100)],\n",
    "}\n",
    "\n",
    "labels = []\n",
    "\n",
    "for i in range(100):\n",
    "    if data['x1'][i] == 1 and data['x2'][i] == 1: ## conjunction x1 ^ x2\n",
    "        labels.append(1)\n",
    "    else:\n",
    "        labels.append(-1)\n",
    "        \n",
    "train = pd.DataFrame(data)\n",
    "train['label'] = labels \n",
    "# add bias term\n",
    "train['bias'] = .1\n",
    "train = train[['bias', 'x1', 'x2', 'label']]\n",
    "print(train)\n",
    "\n",
    "# w = Logistic_SGD(train.drop('label', axis=1).values, train['label'].values, 1, 1, 50, .001)\n",
    "# print(\"w: \", w)\n",
    "\n",
    "test = train\n",
    "# for i in range(4):\n",
    "#     xi = test.drop('label', axis=1).values[i]\n",
    "#     z = np.dot(w.T, xi)\n",
    "#     # prediction = np.dot(w.T, xi)\n",
    "#     prediction = 1 / (1 + np.exp(-z))  # Sigmoid function\n",
    "    \n",
    "#     print(\"Prediction: \", prediction)\n",
    "#     print(\"Actual: \", test['label'][i])\n",
    "\n",
    "train_folds = np.array_split(train, 5)\n",
    "    \n",
    "for LR_0 in LR_0_arr:\n",
    "    for sig2 in sig2_arr:\n",
    "        avg_accuracy = CV_logistic(train_folds, sig2, LR_0, T, Logistic_obj_threshold)\n",
    "        print(f'LR_0 = {LR_0}, sig2 = {sig2}, avg_accuracy = {avg_accuracy}')\n",
    "        if avg_accuracy > bestHyperparameters[\"avg_accuracy\"]:\n",
    "            bestHyperparameters[\"LR_0\"] = LR_0\n",
    "            bestHyperparameters[\"sig2\"] = sig2\n",
    "            bestHyperparameters[\"avg_accuracy\"] = avg_accuracy\n",
    "# print(\"best Hyperparameters: \", bestHyperparameters)\n",
    "    \n"
   ]
  },
  {
   "cell_type": "code",
   "execution_count": null,
   "metadata": {},
   "outputs": [
    {
     "name": "stdout",
     "output_type": "stream",
     "text": [
      "Prediction:  0.4392194721195078\n",
      "Actual:  -1\n",
      "Prediction:  0.4354786297311363\n",
      "Actual:  -1\n",
      "Prediction:  0.4055131575891247\n",
      "Actual:  -1\n",
      "Prediction:  0.41327429507339386\n",
      "Actual:  -1\n",
      "Prediction:  0.4018536737986774\n",
      "Actual:  1\n",
      "Prediction:  0.38020910510729466\n",
      "Actual:  -1\n",
      "Prediction:  0.4095930281476346\n",
      "Actual:  -1\n",
      "Prediction:  0.3766333024074515\n",
      "Actual:  1\n"
     ]
    }
   ],
   "source": [
    "data = {\n",
    "    'x1': [0, 1, 0, 0, 1, 0, 1, 1],\n",
    "    'x2': [0, 0, 1, 0, 1, 1, 0, 1],\n",
    "    'x3': [0, 0, 0, 1, 0, 1, 1, 1],\n",
    "}\n",
    "\n",
    "labels = []\n",
    "\n",
    "for i in range(8):\n",
    "    if data['x1'][i] == 1 and data['x2'][i] == 1: ## conjunction x1 ^ x2\n",
    "        labels.append(1)\n",
    "    else:\n",
    "        labels.append(-1)\n",
    "        \n",
    "train = pd.DataFrame(data)\n",
    "train['label'] = labels \n",
    "# add bias term\n",
    "train['bias'] = 1\n",
    "train = train[['bias', 'x1', 'x2', 'x3', 'label']]\n",
    "# print(train)\n",
    "\n",
    "w = Logistic_SGD(train.drop('label', axis=1).values, train['label'].values, 1, 1, 100, .005)\n",
    "\n",
    "test = train\n",
    "for i in range(8):\n",
    "    xi = test.drop('label', axis=1).values[i]\n",
    "    z = np.dot(w.T, xi)\n",
    "    prediction = 1 / (1 + np.exp(-z))  # Sigmoid function\n",
    "    \n",
    "    print(\"Prediction: \", prediction)\n",
    "    print(\"Actual: \", test['label'][i])"
   ]
  },
  {
   "cell_type": "code",
   "execution_count": null,
   "metadata": {},
   "outputs": [
    {
     "ename": "NameError",
     "evalue": "name 'BOW_train' is not defined",
     "output_type": "error",
     "traceback": [
      "\u001b[1;31m---------------------------------------------------------------------------\u001b[0m",
      "\u001b[1;31mNameError\u001b[0m                                 Traceback (most recent call last)",
      "Cell \u001b[1;32mIn[5], line 10\u001b[0m\n\u001b[0;32m      6\u001b[0m sig2_arr \u001b[38;5;241m=\u001b[39m [\u001b[38;5;241m.1\u001b[39m, \u001b[38;5;241m1\u001b[39m, \u001b[38;5;241m10\u001b[39m, \u001b[38;5;241m100\u001b[39m, \u001b[38;5;241m1000\u001b[39m, \u001b[38;5;241m10000\u001b[39m]\n\u001b[0;32m      8\u001b[0m bestHyperparameters \u001b[38;5;241m=\u001b[39m {\u001b[38;5;124m\"\u001b[39m\u001b[38;5;124mLR_0\u001b[39m\u001b[38;5;124m\"\u001b[39m: \u001b[38;5;241m0\u001b[39m, \u001b[38;5;124m\"\u001b[39m\u001b[38;5;124msig2\u001b[39m\u001b[38;5;124m\"\u001b[39m: \u001b[38;5;241m0\u001b[39m, \u001b[38;5;124m\"\u001b[39m\u001b[38;5;124mavg_accuracy\u001b[39m\u001b[38;5;124m\"\u001b[39m: \u001b[38;5;241m0\u001b[39m}\n\u001b[1;32m---> 10\u001b[0m BOW_smol \u001b[38;5;241m=\u001b[39m \u001b[43mBOW_train\u001b[49m[:\u001b[38;5;241m1000\u001b[39m]\n\u001b[0;32m     11\u001b[0m train_folds \u001b[38;5;241m=\u001b[39m np\u001b[38;5;241m.\u001b[39marray_split(BOW_smol, \u001b[38;5;241m5\u001b[39m)\n\u001b[0;32m     14\u001b[0m \u001b[38;5;66;03m# train_folds = np.array_split(BOW_train, 5)\u001b[39;00m\n",
      "\u001b[1;31mNameError\u001b[0m: name 'BOW_train' is not defined"
     ]
    }
   ],
   "source": [
    "### testing: detemine best hyperparameters for Logistic SGD\n",
    "\n",
    "T = 30 # we probs (shouldn't) reach this, cause it should stop on its own cause we'll converge to the bottom of the bowl\n",
    "Logistic_obj_threshold = 0.05\n",
    "LR_0_arr = [1, .1, .01, .001, .0001, .00001]\n",
    "sig2_arr = [.1, 1, 10, 100, 1000, 10000]\n",
    "\n",
    "bestHyperparameters = {\"LR_0\": 0, \"sig2\": 0, \"avg_accuracy\": 0}\n",
    "\n",
    "BOW_smol = BOW_train[:1000]\n",
    "train_folds = np.array_split(BOW_smol, 5)\n",
    "\n",
    "\n",
    "# train_folds = np.array_split(BOW_train, 5)\n",
    "\n",
    "\n",
    "for LR_0 in LR_0_arr:\n",
    "    for sig2 in sig2_arr:\n",
    "        avg_accuracy = CV_logistic(train_folds, sig2, LR_0, T, Logistic_obj_threshold)\n",
    "        print(f'LR_0 = {LR_0}, sig2 = {sig2}, avg_accuracy = {avg_accuracy}')\n",
    "        if avg_accuracy > bestHyperparameters[\"avg_accuracy\"]:\n",
    "            bestHyperparameters[\"LR_0\"] = LR_0\n",
    "            bestHyperparameters[\"sig2\"] = sig2\n",
    "            bestHyperparameters[\"avg_accuracy\"] = avg_accuracy\n",
    "print(\"best Hyperparameters: \", bestHyperparameters)   "
   ]
  },
  {
   "cell_type": "code",
   "execution_count": null,
   "metadata": {},
   "outputs": [
    {
     "data": {
      "image/png": "[encoded data removed]",
      "text/plain": [
       "<Figure size 640x480 with 1 Axes>"
      ]
     },
     "metadata": {},
     "output_type": "display_data"
    },
    {
     "name": "stdout",
     "output_type": "stream",
     "text": [
      "On Test Set: -------------------\n",
      "Accuracy:  0.2408888888888889\n"
     ]
    }
   ],
   "source": [
    "### testing: using best hyperparameters, train model and test on test data\n",
    "\n",
    "#####\n",
    "train = BOW_train\n",
    "test = BOW_test\n",
    "#####\n",
    "\n",
    "# LR_0 = bestHyperparameters[\"LR_0\"]\n",
    "# sig2 = bestHyperparameters[\"sig2\"]\n",
    "\n",
    "LR_0 = 0.1\n",
    "sig2 = 100\n",
    "\n",
    "train_data = train.drop('label', axis=1).values\n",
    "train_labels = train['label'].values\n",
    "\n",
    "w = Logistic_SGD(train_data, train_labels, LR_0, sig2, T, Logistic_obj_threshold, show_plot = True)\n",
    "\n",
    "test_data = test.drop('label', axis=1).values\n",
    "test_labels = test['label'].values\n",
    "N = len(test_data)\n",
    "correct = 0\n",
    "accuracy = 0\n",
    "for i in range(N):\n",
    "    # this is where we need to do the false/true positive/negative stuff\n",
    "    prediction = np.dot(w, test_data[i])\n",
    "    actual = test_labels[i] \n",
    "    if prediction > 0: \n",
    "        prediction = 1\n",
    "    else: \n",
    "        prediction = 0\n",
    "    if prediction == actual:\n",
    "        correct += 1\n",
    "accuracy = correct/N\n",
    "\n",
    "\n",
    "print(\"On Test Set: -------------------\")\n",
    "print(\"Accuracy: \", accuracy)\n"
   ]
  },
  {
   "cell_type": "code",
   "execution_count": null,
   "metadata": {},
   "outputs": [],
   "source": [
    "eval_guesses_to_csv(w, BOW_eval.drop(columns=['label']), \"SVM_logistic.BOW.eval.predictions.csv\")"
   ]
  },
  {
   "cell_type": "markdown",
   "metadata": {},
   "source": [
    "------ glove -------"
   ]
  },
  {
   "cell_type": "code",
   "execution_count": null,
   "metadata": {},
   "outputs": [
    {
     "name": "stderr",
     "output_type": "stream",
     "text": [
      "C:\\Users\\17ago\\AppData\\Local\\Temp\\ipykernel_11816\\3907794492.py:22: RuntimeWarning: overflow encountered in exp\n",
      "  sigmoid_term = 1 / (1 + np.exp(-z))\n",
      "C:\\Users\\17ago\\AppData\\Local\\Temp\\ipykernel_11816\\3907794492.py:46: RuntimeWarning: overflow encountered in exp\n",
      "  logistic_obj = np.log(1 + np.exp(-yi*np.dot(w.T, xi)))\n",
      "C:\\Users\\17ago\\AppData\\Local\\Temp\\ipykernel_11816\\4266246686.py:18: RuntimeWarning: overflow encountered in exp\n",
      "  prediction = 1/(1+np.exp(-np.dot(w.T, test_data[i]))) ## sigmoid, this should give us the probablity that the label is 1\n",
      "C:\\Users\\17ago\\AppData\\Local\\Temp\\ipykernel_11816\\3907794492.py:22: RuntimeWarning: overflow encountered in exp\n",
      "  sigmoid_term = 1 / (1 + np.exp(-z))\n",
      "C:\\Users\\17ago\\AppData\\Local\\Temp\\ipykernel_11816\\3907794492.py:46: RuntimeWarning: overflow encountered in exp\n",
      "  logistic_obj = np.log(1 + np.exp(-yi*np.dot(w.T, xi)))\n",
      "C:\\Users\\17ago\\AppData\\Local\\Temp\\ipykernel_11816\\4266246686.py:18: RuntimeWarning: overflow encountered in exp\n",
      "  prediction = 1/(1+np.exp(-np.dot(w.T, test_data[i]))) ## sigmoid, this should give us the probablity that the label is 1\n",
      "C:\\Users\\17ago\\AppData\\Local\\Temp\\ipykernel_11816\\4266246686.py:18: RuntimeWarning: overflow encountered in exp\n",
      "  prediction = 1/(1+np.exp(-np.dot(w.T, test_data[i]))) ## sigmoid, this should give us the probablity that the label is 1\n",
      "C:\\Users\\17ago\\AppData\\Local\\Temp\\ipykernel_11816\\4266246686.py:18: RuntimeWarning: overflow encountered in exp\n",
      "  prediction = 1/(1+np.exp(-np.dot(w.T, test_data[i]))) ## sigmoid, this should give us the probablity that the label is 1\n"
     ]
    },
    {
     "name": "stdout",
     "output_type": "stream",
     "text": [
      "LR_0 = 1, sig2 = 0.1, avg_accuracy = 0.49777142857142864\n"
     ]
    },
    {
     "name": "stderr",
     "output_type": "stream",
     "text": [
      "C:\\Users\\17ago\\AppData\\Local\\Temp\\ipykernel_11816\\3907794492.py:22: RuntimeWarning: overflow encountered in exp\n",
      "  sigmoid_term = 1 / (1 + np.exp(-z))\n",
      "C:\\Users\\17ago\\AppData\\Local\\Temp\\ipykernel_11816\\4266246686.py:18: RuntimeWarning: overflow encountered in exp\n",
      "  prediction = 1/(1+np.exp(-np.dot(w.T, test_data[i]))) ## sigmoid, this should give us the probablity that the label is 1\n",
      "C:\\Users\\17ago\\AppData\\Local\\Temp\\ipykernel_11816\\3907794492.py:22: RuntimeWarning: overflow encountered in exp\n",
      "  sigmoid_term = 1 / (1 + np.exp(-z))\n",
      "C:\\Users\\17ago\\AppData\\Local\\Temp\\ipykernel_11816\\4266246686.py:18: RuntimeWarning: overflow encountered in exp\n",
      "  prediction = 1/(1+np.exp(-np.dot(w.T, test_data[i]))) ## sigmoid, this should give us the probablity that the label is 1\n",
      "C:\\Users\\17ago\\AppData\\Local\\Temp\\ipykernel_11816\\3907794492.py:22: RuntimeWarning: overflow encountered in exp\n",
      "  sigmoid_term = 1 / (1 + np.exp(-z))\n",
      "C:\\Users\\17ago\\AppData\\Local\\Temp\\ipykernel_11816\\4266246686.py:18: RuntimeWarning: overflow encountered in exp\n",
      "  prediction = 1/(1+np.exp(-np.dot(w.T, test_data[i]))) ## sigmoid, this should give us the probablity that the label is 1\n",
      "C:\\Users\\17ago\\AppData\\Local\\Temp\\ipykernel_11816\\3907794492.py:22: RuntimeWarning: overflow encountered in exp\n",
      "  sigmoid_term = 1 / (1 + np.exp(-z))\n",
      "C:\\Users\\17ago\\AppData\\Local\\Temp\\ipykernel_11816\\4266246686.py:18: RuntimeWarning: overflow encountered in exp\n",
      "  prediction = 1/(1+np.exp(-np.dot(w.T, test_data[i]))) ## sigmoid, this should give us the probablity that the label is 1\n",
      "C:\\Users\\17ago\\AppData\\Local\\Temp\\ipykernel_11816\\3907794492.py:22: RuntimeWarning: overflow encountered in exp\n",
      "  sigmoid_term = 1 / (1 + np.exp(-z))\n",
      "C:\\Users\\17ago\\AppData\\Local\\Temp\\ipykernel_11816\\4266246686.py:18: RuntimeWarning: overflow encountered in exp\n",
      "  prediction = 1/(1+np.exp(-np.dot(w.T, test_data[i]))) ## sigmoid, this should give us the probablity that the label is 1\n"
     ]
    },
    {
     "name": "stdout",
     "output_type": "stream",
     "text": [
      "LR_0 = 1, sig2 = 1, avg_accuracy = 0.49777142857142864\n"
     ]
    },
    {
     "name": "stderr",
     "output_type": "stream",
     "text": [
      "C:\\Users\\17ago\\AppData\\Local\\Temp\\ipykernel_11816\\3907794492.py:46: RuntimeWarning: overflow encountered in exp\n",
      "  logistic_obj = np.log(1 + np.exp(-yi*np.dot(w.T, xi)))\n",
      "C:\\Users\\17ago\\AppData\\Local\\Temp\\ipykernel_11816\\3907794492.py:22: RuntimeWarning: overflow encountered in exp\n",
      "  sigmoid_term = 1 / (1 + np.exp(-z))\n",
      "C:\\Users\\17ago\\AppData\\Local\\Temp\\ipykernel_11816\\3907794492.py:46: RuntimeWarning: overflow encountered in exp\n",
      "  logistic_obj = np.log(1 + np.exp(-yi*np.dot(w.T, xi)))\n",
      "C:\\Users\\17ago\\AppData\\Local\\Temp\\ipykernel_11816\\3907794492.py:22: RuntimeWarning: overflow encountered in exp\n",
      "  sigmoid_term = 1 / (1 + np.exp(-z))\n",
      "C:\\Users\\17ago\\AppData\\Local\\Temp\\ipykernel_11816\\3907794492.py:61: RuntimeWarning: invalid value encountered in scalar subtract\n",
      "  log_diff = abs(prev_logistic_obj - logistic_obj)\n",
      "C:\\Users\\17ago\\AppData\\Local\\Temp\\ipykernel_11816\\3907794492.py:46: RuntimeWarning: overflow encountered in exp\n",
      "  logistic_obj = np.log(1 + np.exp(-yi*np.dot(w.T, xi)))\n",
      "C:\\Users\\17ago\\AppData\\Local\\Temp\\ipykernel_11816\\3907794492.py:61: RuntimeWarning: invalid value encountered in scalar subtract\n",
      "  log_diff = abs(prev_logistic_obj - logistic_obj)\n",
      "C:\\Users\\17ago\\AppData\\Local\\Temp\\ipykernel_11816\\3907794492.py:22: RuntimeWarning: overflow encountered in exp\n",
      "  sigmoid_term = 1 / (1 + np.exp(-z))\n"
     ]
    },
    {
     "name": "stdout",
     "output_type": "stream",
     "text": [
      "LR_0 = 1, sig2 = 10, avg_accuracy = 0.49777142857142864\n"
     ]
    },
    {
     "name": "stderr",
     "output_type": "stream",
     "text": [
      "C:\\Users\\17ago\\AppData\\Local\\Temp\\ipykernel_11816\\3907794492.py:22: RuntimeWarning: overflow encountered in exp\n",
      "  sigmoid_term = 1 / (1 + np.exp(-z))\n",
      "C:\\Users\\17ago\\AppData\\Local\\Temp\\ipykernel_11816\\3907794492.py:46: RuntimeWarning: overflow encountered in exp\n",
      "  logistic_obj = np.log(1 + np.exp(-yi*np.dot(w.T, xi)))\n",
      "C:\\Users\\17ago\\AppData\\Local\\Temp\\ipykernel_11816\\3907794492.py:22: RuntimeWarning: overflow encountered in exp\n",
      "  sigmoid_term = 1 / (1 + np.exp(-z))\n",
      "C:\\Users\\17ago\\AppData\\Local\\Temp\\ipykernel_11816\\3907794492.py:46: RuntimeWarning: overflow encountered in exp\n",
      "  logistic_obj = np.log(1 + np.exp(-yi*np.dot(w.T, xi)))\n",
      "C:\\Users\\17ago\\AppData\\Local\\Temp\\ipykernel_11816\\3907794492.py:22: RuntimeWarning: overflow encountered in exp\n",
      "  sigmoid_term = 1 / (1 + np.exp(-z))\n",
      "C:\\Users\\17ago\\AppData\\Local\\Temp\\ipykernel_11816\\3907794492.py:22: RuntimeWarning: overflow encountered in exp\n",
      "  sigmoid_term = 1 / (1 + np.exp(-z))\n",
      "C:\\Users\\17ago\\AppData\\Local\\Temp\\ipykernel_11816\\4266246686.py:18: RuntimeWarning: overflow encountered in exp\n",
      "  prediction = 1/(1+np.exp(-np.dot(w.T, test_data[i]))) ## sigmoid, this should give us the probablity that the label is 1\n",
      "C:\\Users\\17ago\\AppData\\Local\\Temp\\ipykernel_11816\\3907794492.py:22: RuntimeWarning: overflow encountered in exp\n",
      "  sigmoid_term = 1 / (1 + np.exp(-z))\n",
      "C:\\Users\\17ago\\AppData\\Local\\Temp\\ipykernel_11816\\4266246686.py:18: RuntimeWarning: overflow encountered in exp\n",
      "  prediction = 1/(1+np.exp(-np.dot(w.T, test_data[i]))) ## sigmoid, this should give us the probablity that the label is 1\n",
      "C:\\Users\\17ago\\AppData\\Local\\Temp\\ipykernel_11816\\3907794492.py:46: RuntimeWarning: overflow encountered in exp\n",
      "  logistic_obj = np.log(1 + np.exp(-yi*np.dot(w.T, xi)))\n",
      "C:\\Users\\17ago\\AppData\\Local\\Temp\\ipykernel_11816\\3907794492.py:22: RuntimeWarning: overflow encountered in exp\n",
      "  sigmoid_term = 1 / (1 + np.exp(-z))\n"
     ]
    },
    {
     "name": "stdout",
     "output_type": "stream",
     "text": [
      "LR_0 = 1, sig2 = 100, avg_accuracy = 0.49777142857142864\n"
     ]
    },
    {
     "name": "stderr",
     "output_type": "stream",
     "text": [
      "C:\\Users\\17ago\\AppData\\Local\\Temp\\ipykernel_11816\\3907794492.py:46: RuntimeWarning: overflow encountered in exp\n",
      "  logistic_obj = np.log(1 + np.exp(-yi*np.dot(w.T, xi)))\n",
      "C:\\Users\\17ago\\AppData\\Local\\Temp\\ipykernel_11816\\3907794492.py:22: RuntimeWarning: overflow encountered in exp\n",
      "  sigmoid_term = 1 / (1 + np.exp(-z))\n",
      "C:\\Users\\17ago\\AppData\\Local\\Temp\\ipykernel_11816\\3907794492.py:22: RuntimeWarning: overflow encountered in exp\n",
      "  sigmoid_term = 1 / (1 + np.exp(-z))\n",
      "C:\\Users\\17ago\\AppData\\Local\\Temp\\ipykernel_11816\\3907794492.py:46: RuntimeWarning: overflow encountered in exp\n",
      "  logistic_obj = np.log(1 + np.exp(-yi*np.dot(w.T, xi)))\n",
      "C:\\Users\\17ago\\AppData\\Local\\Temp\\ipykernel_11816\\3907794492.py:22: RuntimeWarning: overflow encountered in exp\n",
      "  sigmoid_term = 1 / (1 + np.exp(-z))\n",
      "C:\\Users\\17ago\\AppData\\Local\\Temp\\ipykernel_11816\\4266246686.py:18: RuntimeWarning: overflow encountered in exp\n",
      "  prediction = 1/(1+np.exp(-np.dot(w.T, test_data[i]))) ## sigmoid, this should give us the probablity that the label is 1\n",
      "C:\\Users\\17ago\\AppData\\Local\\Temp\\ipykernel_11816\\3907794492.py:46: RuntimeWarning: overflow encountered in exp\n",
      "  logistic_obj = np.log(1 + np.exp(-yi*np.dot(w.T, xi)))\n",
      "C:\\Users\\17ago\\AppData\\Local\\Temp\\ipykernel_11816\\3907794492.py:61: RuntimeWarning: invalid value encountered in scalar subtract\n",
      "  log_diff = abs(prev_logistic_obj - logistic_obj)\n",
      "C:\\Users\\17ago\\AppData\\Local\\Temp\\ipykernel_11816\\3907794492.py:22: RuntimeWarning: overflow encountered in exp\n",
      "  sigmoid_term = 1 / (1 + np.exp(-z))\n",
      "C:\\Users\\17ago\\AppData\\Local\\Temp\\ipykernel_11816\\3907794492.py:22: RuntimeWarning: overflow encountered in exp\n",
      "  sigmoid_term = 1 / (1 + np.exp(-z))\n",
      "C:\\Users\\17ago\\AppData\\Local\\Temp\\ipykernel_11816\\3907794492.py:46: RuntimeWarning: overflow encountered in exp\n",
      "  logistic_obj = np.log(1 + np.exp(-yi*np.dot(w.T, xi)))\n",
      "C:\\Users\\17ago\\AppData\\Local\\Temp\\ipykernel_11816\\3907794492.py:61: RuntimeWarning: invalid value encountered in scalar subtract\n",
      "  log_diff = abs(prev_logistic_obj - logistic_obj)\n",
      "C:\\Users\\17ago\\AppData\\Local\\Temp\\ipykernel_11816\\3907794492.py:22: RuntimeWarning: overflow encountered in exp\n",
      "  sigmoid_term = 1 / (1 + np.exp(-z))\n",
      "C:\\Users\\17ago\\AppData\\Local\\Temp\\ipykernel_11816\\4266246686.py:18: RuntimeWarning: overflow encountered in exp\n",
      "  prediction = 1/(1+np.exp(-np.dot(w.T, test_data[i]))) ## sigmoid, this should give us the probablity that the label is 1\n"
     ]
    },
    {
     "name": "stdout",
     "output_type": "stream",
     "text": [
      "LR_0 = 1, sig2 = 1000, avg_accuracy = 0.49777142857142864\n"
     ]
    },
    {
     "name": "stderr",
     "output_type": "stream",
     "text": [
      "C:\\Users\\17ago\\AppData\\Local\\Temp\\ipykernel_11816\\3907794492.py:22: RuntimeWarning: overflow encountered in exp\n",
      "  sigmoid_term = 1 / (1 + np.exp(-z))\n",
      "C:\\Users\\17ago\\AppData\\Local\\Temp\\ipykernel_11816\\4266246686.py:18: RuntimeWarning: overflow encountered in exp\n",
      "  prediction = 1/(1+np.exp(-np.dot(w.T, test_data[i]))) ## sigmoid, this should give us the probablity that the label is 1\n",
      "C:\\Users\\17ago\\AppData\\Local\\Temp\\ipykernel_11816\\3907794492.py:22: RuntimeWarning: overflow encountered in exp\n",
      "  sigmoid_term = 1 / (1 + np.exp(-z))\n",
      "C:\\Users\\17ago\\AppData\\Local\\Temp\\ipykernel_11816\\3907794492.py:22: RuntimeWarning: overflow encountered in exp\n",
      "  sigmoid_term = 1 / (1 + np.exp(-z))\n",
      "C:\\Users\\17ago\\AppData\\Local\\Temp\\ipykernel_11816\\4266246686.py:18: RuntimeWarning: overflow encountered in exp\n",
      "  prediction = 1/(1+np.exp(-np.dot(w.T, test_data[i]))) ## sigmoid, this should give us the probablity that the label is 1\n"
     ]
    },
    {
     "name": "stdout",
     "output_type": "stream",
     "text": [
      "LR_0 = 1, sig2 = 10000, avg_accuracy = 0.49777142857142864\n"
     ]
    },
    {
     "name": "stderr",
     "output_type": "stream",
     "text": [
      "C:\\Users\\17ago\\AppData\\Local\\Temp\\ipykernel_11816\\3907794492.py:22: RuntimeWarning: overflow encountered in exp\n",
      "  sigmoid_term = 1 / (1 + np.exp(-z))\n",
      "C:\\Users\\17ago\\AppData\\Local\\Temp\\ipykernel_11816\\4266246686.py:18: RuntimeWarning: overflow encountered in exp\n",
      "  prediction = 1/(1+np.exp(-np.dot(w.T, test_data[i]))) ## sigmoid, this should give us the probablity that the label is 1\n",
      "C:\\Users\\17ago\\AppData\\Local\\Temp\\ipykernel_11816\\4266246686.py:18: RuntimeWarning: overflow encountered in exp\n",
      "  prediction = 1/(1+np.exp(-np.dot(w.T, test_data[i]))) ## sigmoid, this should give us the probablity that the label is 1\n",
      "C:\\Users\\17ago\\AppData\\Local\\Temp\\ipykernel_11816\\3907794492.py:46: RuntimeWarning: overflow encountered in exp\n",
      "  logistic_obj = np.log(1 + np.exp(-yi*np.dot(w.T, xi)))\n",
      "C:\\Users\\17ago\\AppData\\Local\\Temp\\ipykernel_11816\\4266246686.py:18: RuntimeWarning: overflow encountered in exp\n",
      "  prediction = 1/(1+np.exp(-np.dot(w.T, test_data[i]))) ## sigmoid, this should give us the probablity that the label is 1\n",
      "C:\\Users\\17ago\\AppData\\Local\\Temp\\ipykernel_11816\\4266246686.py:18: RuntimeWarning: overflow encountered in exp\n",
      "  prediction = 1/(1+np.exp(-np.dot(w.T, test_data[i]))) ## sigmoid, this should give us the probablity that the label is 1\n"
     ]
    },
    {
     "name": "stdout",
     "output_type": "stream",
     "text": [
      "LR_0 = 0.1, sig2 = 0.1, avg_accuracy = 0.49777142857142864\n"
     ]
    },
    {
     "name": "stderr",
     "output_type": "stream",
     "text": [
      "C:\\Users\\17ago\\AppData\\Local\\Temp\\ipykernel_11816\\4266246686.py:18: RuntimeWarning: overflow encountered in exp\n",
      "  prediction = 1/(1+np.exp(-np.dot(w.T, test_data[i]))) ## sigmoid, this should give us the probablity that the label is 1\n",
      "C:\\Users\\17ago\\AppData\\Local\\Temp\\ipykernel_11816\\3907794492.py:22: RuntimeWarning: overflow encountered in exp\n",
      "  sigmoid_term = 1 / (1 + np.exp(-z))\n",
      "C:\\Users\\17ago\\AppData\\Local\\Temp\\ipykernel_11816\\3907794492.py:46: RuntimeWarning: overflow encountered in exp\n",
      "  logistic_obj = np.log(1 + np.exp(-yi*np.dot(w.T, xi)))\n"
     ]
    },
    {
     "name": "stdout",
     "output_type": "stream",
     "text": [
      "LR_0 = 0.1, sig2 = 1, avg_accuracy = 0.49777142857142864\n"
     ]
    },
    {
     "name": "stderr",
     "output_type": "stream",
     "text": [
      "C:\\Users\\17ago\\AppData\\Local\\Temp\\ipykernel_11816\\3907794492.py:22: RuntimeWarning: overflow encountered in exp\n",
      "  sigmoid_term = 1 / (1 + np.exp(-z))\n",
      "C:\\Users\\17ago\\AppData\\Local\\Temp\\ipykernel_11816\\4266246686.py:18: RuntimeWarning: overflow encountered in exp\n",
      "  prediction = 1/(1+np.exp(-np.dot(w.T, test_data[i]))) ## sigmoid, this should give us the probablity that the label is 1\n",
      "C:\\Users\\17ago\\AppData\\Local\\Temp\\ipykernel_11816\\4266246686.py:18: RuntimeWarning: overflow encountered in exp\n",
      "  prediction = 1/(1+np.exp(-np.dot(w.T, test_data[i]))) ## sigmoid, this should give us the probablity that the label is 1\n",
      "C:\\Users\\17ago\\AppData\\Local\\Temp\\ipykernel_11816\\4266246686.py:18: RuntimeWarning: overflow encountered in exp\n",
      "  prediction = 1/(1+np.exp(-np.dot(w.T, test_data[i]))) ## sigmoid, this should give us the probablity that the label is 1\n"
     ]
    },
    {
     "name": "stdout",
     "output_type": "stream",
     "text": [
      "LR_0 = 0.1, sig2 = 10, avg_accuracy = 0.49777142857142864\n"
     ]
    },
    {
     "name": "stderr",
     "output_type": "stream",
     "text": [
      "C:\\Users\\17ago\\AppData\\Local\\Temp\\ipykernel_11816\\3907794492.py:22: RuntimeWarning: overflow encountered in exp\n",
      "  sigmoid_term = 1 / (1 + np.exp(-z))\n",
      "C:\\Users\\17ago\\AppData\\Local\\Temp\\ipykernel_11816\\3907794492.py:46: RuntimeWarning: overflow encountered in exp\n",
      "  logistic_obj = np.log(1 + np.exp(-yi*np.dot(w.T, xi)))\n",
      "C:\\Users\\17ago\\AppData\\Local\\Temp\\ipykernel_11816\\3907794492.py:22: RuntimeWarning: overflow encountered in exp\n",
      "  sigmoid_term = 1 / (1 + np.exp(-z))\n",
      "C:\\Users\\17ago\\AppData\\Local\\Temp\\ipykernel_11816\\3907794492.py:46: RuntimeWarning: overflow encountered in exp\n",
      "  logistic_obj = np.log(1 + np.exp(-yi*np.dot(w.T, xi)))\n",
      "C:\\Users\\17ago\\AppData\\Local\\Temp\\ipykernel_11816\\3907794492.py:22: RuntimeWarning: overflow encountered in exp\n",
      "  sigmoid_term = 1 / (1 + np.exp(-z))\n",
      "C:\\Users\\17ago\\AppData\\Local\\Temp\\ipykernel_11816\\4266246686.py:18: RuntimeWarning: overflow encountered in exp\n",
      "  prediction = 1/(1+np.exp(-np.dot(w.T, test_data[i]))) ## sigmoid, this should give us the probablity that the label is 1\n"
     ]
    },
    {
     "name": "stdout",
     "output_type": "stream",
     "text": [
      "LR_0 = 0.1, sig2 = 100, avg_accuracy = 0.49777142857142864\n"
     ]
    },
    {
     "name": "stderr",
     "output_type": "stream",
     "text": [
      "C:\\Users\\17ago\\AppData\\Local\\Temp\\ipykernel_11816\\4266246686.py:18: RuntimeWarning: overflow encountered in exp\n",
      "  prediction = 1/(1+np.exp(-np.dot(w.T, test_data[i]))) ## sigmoid, this should give us the probablity that the label is 1\n"
     ]
    },
    {
     "name": "stdout",
     "output_type": "stream",
     "text": [
      "LR_0 = 0.1, sig2 = 1000, avg_accuracy = 0.49777142857142864\n"
     ]
    },
    {
     "name": "stderr",
     "output_type": "stream",
     "text": [
      "C:\\Users\\17ago\\AppData\\Local\\Temp\\ipykernel_11816\\4266246686.py:18: RuntimeWarning: overflow encountered in exp\n",
      "  prediction = 1/(1+np.exp(-np.dot(w.T, test_data[i]))) ## sigmoid, this should give us the probablity that the label is 1\n",
      "C:\\Users\\17ago\\AppData\\Local\\Temp\\ipykernel_11816\\4266246686.py:18: RuntimeWarning: overflow encountered in exp\n",
      "  prediction = 1/(1+np.exp(-np.dot(w.T, test_data[i]))) ## sigmoid, this should give us the probablity that the label is 1\n",
      "C:\\Users\\17ago\\AppData\\Local\\Temp\\ipykernel_11816\\3907794492.py:46: RuntimeWarning: overflow encountered in exp\n",
      "  logistic_obj = np.log(1 + np.exp(-yi*np.dot(w.T, xi)))\n",
      "C:\\Users\\17ago\\AppData\\Local\\Temp\\ipykernel_11816\\3907794492.py:22: RuntimeWarning: overflow encountered in exp\n",
      "  sigmoid_term = 1 / (1 + np.exp(-z))\n",
      "C:\\Users\\17ago\\AppData\\Local\\Temp\\ipykernel_11816\\4266246686.py:18: RuntimeWarning: overflow encountered in exp\n",
      "  prediction = 1/(1+np.exp(-np.dot(w.T, test_data[i]))) ## sigmoid, this should give us the probablity that the label is 1\n"
     ]
    },
    {
     "name": "stdout",
     "output_type": "stream",
     "text": [
      "LR_0 = 0.1, sig2 = 10000, avg_accuracy = 0.49777142857142864\n",
      "LR_0 = 0.01, sig2 = 0.1, avg_accuracy = 0.49777142857142864\n",
      "LR_0 = 0.01, sig2 = 1, avg_accuracy = 0.49777142857142864\n",
      "LR_0 = 0.01, sig2 = 10, avg_accuracy = 0.49777142857142864\n",
      "LR_0 = 0.01, sig2 = 100, avg_accuracy = 0.49777142857142864\n",
      "LR_0 = 0.01, sig2 = 1000, avg_accuracy = 0.49777142857142864\n",
      "LR_0 = 0.01, sig2 = 10000, avg_accuracy = 0.49777142857142864\n",
      "LR_0 = 0.001, sig2 = 0.1, avg_accuracy = 0.49777142857142864\n",
      "LR_0 = 0.001, sig2 = 1, avg_accuracy = 0.49777142857142864\n",
      "LR_0 = 0.001, sig2 = 10, avg_accuracy = 0.49777142857142864\n",
      "LR_0 = 0.001, sig2 = 100, avg_accuracy = 0.49777142857142864\n",
      "LR_0 = 0.001, sig2 = 1000, avg_accuracy = 0.49777142857142864\n",
      "LR_0 = 0.001, sig2 = 10000, avg_accuracy = 0.49777142857142864\n",
      "LR_0 = 0.0001, sig2 = 0.1, avg_accuracy = 0.49777142857142864\n",
      "LR_0 = 0.0001, sig2 = 1, avg_accuracy = 0.49777142857142864\n",
      "LR_0 = 0.0001, sig2 = 10, avg_accuracy = 0.49777142857142864\n",
      "LR_0 = 0.0001, sig2 = 100, avg_accuracy = 0.49777142857142864\n",
      "LR_0 = 0.0001, sig2 = 1000, avg_accuracy = 0.49777142857142864\n",
      "LR_0 = 0.0001, sig2 = 10000, avg_accuracy = 0.49777142857142864\n",
      "LR_0 = 1e-05, sig2 = 0.1, avg_accuracy = 0.49777142857142864\n",
      "LR_0 = 1e-05, sig2 = 1, avg_accuracy = 0.49777142857142864\n",
      "LR_0 = 1e-05, sig2 = 10, avg_accuracy = 0.49777142857142864\n",
      "LR_0 = 1e-05, sig2 = 100, avg_accuracy = 0.49777142857142864\n",
      "LR_0 = 1e-05, sig2 = 1000, avg_accuracy = 0.49777142857142864\n",
      "LR_0 = 1e-05, sig2 = 10000, avg_accuracy = 0.49777142857142864\n",
      "best Hyperparameters:  {'LR_0': 1, 'sig2': 0.1, 'avg_accuracy': 0.49777142857142864}\n"
     ]
    }
   ],
   "source": [
    "### testing: detemine best hyperparameters for Logistic SGD\n",
    "\n",
    "T = 100 # we probs (shouldn't) reach this, cause it should stop on its own cause we'll converge to the bottom of the bowl\n",
    "Logistic_obj_threshold = 0.001\n",
    "LR_0_arr = [1, .1, .01, .001, .0001, .00001]\n",
    "sig2_arr = [.1, 1, 10, 100, 1000, 10000]\n",
    "\n",
    "bestHyperparameters = {\"LR_0\": 0, \"sig2\": 0, \"avg_accuracy\": 0}\n",
    "\n",
    "train_folds = np.array_split(glove_train, 5)\n",
    "\n",
    "for LR_0 in LR_0_arr:\n",
    "    for sig2 in sig2_arr:\n",
    "        avg_accuracy = CV_logistic(train_folds, sig2, LR_0, T, Logistic_obj_threshold)\n",
    "        print(f'LR_0 = {LR_0}, sig2 = {sig2}, avg_accuracy = {avg_accuracy}')\n",
    "        if avg_accuracy > bestHyperparameters[\"avg_accuracy\"]:\n",
    "            bestHyperparameters[\"LR_0\"] = LR_0\n",
    "            bestHyperparameters[\"sig2\"] = sig2\n",
    "            bestHyperparameters[\"avg_accuracy\"] = avg_accuracy\n",
    "print(\"best Hyperparameters: \", bestHyperparameters)   "
   ]
  },
  {
   "cell_type": "code",
   "execution_count": null,
   "metadata": {},
   "outputs": [
    {
     "data": {
      "image/png": "[encoded data removed]",
      "text/plain": [
       "<Figure size 640x480 with 1 Axes>"
      ]
     },
     "metadata": {},
     "output_type": "display_data"
    },
    {
     "name": "stdout",
     "output_type": "stream",
     "text": [
      "On Test Set: -------------------\n",
      "Accuracy:  0.4831111111111111\n"
     ]
    }
   ],
   "source": [
    "### testing: using best hyperparameters, train model and test on test data\n",
    "\n",
    "#####\n",
    "train = glove_train\n",
    "test = glove_test\n",
    "#####\n",
    "\n",
    "LR_0 = bestHyperparameters[\"LR_0\"]\n",
    "sig2 = bestHyperparameters[\"sig2\"]\n",
    "\n",
    "train_data = train.drop('label', axis=1).values\n",
    "train_labels = train['label'].values\n",
    "\n",
    "w = Logistic_SGD(train_data, train_labels, LR_0, sig2, T, Logistic_obj_threshold, show_plot = True)\n",
    "\n",
    "test_data = test.drop('label', axis=1).values\n",
    "test_labels = test['label'].values\n",
    "N = len(test_data)\n",
    "correct = 0\n",
    "accuracy = 0\n",
    "for i in range(N):\n",
    "    # this is where we need to do the false/true positive/negative stuff\n",
    "    prediction = np.dot(w, test_data[i])\n",
    "    actual = test_labels[i] \n",
    "    if prediction > 0 and actual == 1:\n",
    "        correct += 1\n",
    "    elif prediction < 0 and actual == -1:\n",
    "        correct += 1\n",
    "accuracy = correct/N\n",
    "\n",
    "\n",
    "print(\"On Test Set: -------------------\")\n",
    "print(\"Accuracy: \", accuracy)\n"
   ]
  },
  {
   "cell_type": "code",
   "execution_count": null,
   "metadata": {},
   "outputs": [],
   "source": [
    "eval_guesses_to_csv(w, glove_eval.drop(columns=['label']), \"SVM_logistic.glove.eval.predictions.csv\")"
   ]
  },
  {
   "cell_type": "markdown",
   "metadata": {},
   "source": [
    "------ tfidf -------"
   ]
  },
  {
   "cell_type": "code",
   "execution_count": null,
   "metadata": {},
   "outputs": [
    {
     "name": "stderr",
     "output_type": "stream",
     "text": [
      "C:\\Users\\17ago\\AppData\\Local\\Temp\\ipykernel_15544\\3663674511.py:19: RuntimeWarning: overflow encountered in exp\n",
      "  logistic_obj = np.sum(np.log(1 + np.exp(-yi*np.dot(w, xi)))) + (1 / sig2**2) * np.dot(w, w)\n",
      "C:\\Users\\17ago\\AppData\\Local\\Temp\\ipykernel_15544\\3663674511.py:34: RuntimeWarning: invalid value encountered in scalar subtract\n",
      "  if abs(prev_logistic_obj - logistic_obj) < threshold:\n",
      "C:\\Users\\17ago\\AppData\\Local\\Temp\\ipykernel_15544\\3663674511.py:15: RuntimeWarning: overflow encountered in exp\n",
      "  gradient = np.exp(-yi*np.dot(w, xi))*yi*xi/(1 + np.exp(-yi*np.dot(w, xi))) + (2/sig2**2)*w\n",
      "C:\\Users\\17ago\\AppData\\Local\\Temp\\ipykernel_15544\\3663674511.py:15: RuntimeWarning: invalid value encountered in multiply\n",
      "  gradient = np.exp(-yi*np.dot(w, xi))*yi*xi/(1 + np.exp(-yi*np.dot(w, xi))) + (2/sig2**2)*w\n",
      "C:\\Users\\17ago\\AppData\\Local\\Temp\\ipykernel_15544\\3663674511.py:15: RuntimeWarning: invalid value encountered in divide\n",
      "  gradient = np.exp(-yi*np.dot(w, xi))*yi*xi/(1 + np.exp(-yi*np.dot(w, xi))) + (2/sig2**2)*w\n",
      "C:\\Users\\17ago\\AppData\\Local\\Temp\\ipykernel_15544\\3663674511.py:15: RuntimeWarning: overflow encountered in exp\n",
      "  gradient = np.exp(-yi*np.dot(w, xi))*yi*xi/(1 + np.exp(-yi*np.dot(w, xi))) + (2/sig2**2)*w\n",
      "C:\\Users\\17ago\\AppData\\Local\\Temp\\ipykernel_15544\\3663674511.py:15: RuntimeWarning: invalid value encountered in multiply\n",
      "  gradient = np.exp(-yi*np.dot(w, xi))*yi*xi/(1 + np.exp(-yi*np.dot(w, xi))) + (2/sig2**2)*w\n",
      "C:\\Users\\17ago\\AppData\\Local\\Temp\\ipykernel_15544\\3663674511.py:15: RuntimeWarning: invalid value encountered in divide\n",
      "  gradient = np.exp(-yi*np.dot(w, xi))*yi*xi/(1 + np.exp(-yi*np.dot(w, xi))) + (2/sig2**2)*w\n",
      "C:\\Users\\17ago\\AppData\\Local\\Temp\\ipykernel_15544\\3663674511.py:19: RuntimeWarning: overflow encountered in exp\n",
      "  logistic_obj = np.sum(np.log(1 + np.exp(-yi*np.dot(w, xi)))) + (1 / sig2**2) * np.dot(w, w)\n",
      "C:\\Users\\17ago\\AppData\\Local\\Temp\\ipykernel_15544\\3663674511.py:15: RuntimeWarning: overflow encountered in exp\n",
      "  gradient = np.exp(-yi*np.dot(w, xi))*yi*xi/(1 + np.exp(-yi*np.dot(w, xi))) + (2/sig2**2)*w\n",
      "C:\\Users\\17ago\\AppData\\Local\\Temp\\ipykernel_15544\\3663674511.py:15: RuntimeWarning: invalid value encountered in multiply\n",
      "  gradient = np.exp(-yi*np.dot(w, xi))*yi*xi/(1 + np.exp(-yi*np.dot(w, xi))) + (2/sig2**2)*w\n",
      "C:\\Users\\17ago\\AppData\\Local\\Temp\\ipykernel_15544\\3663674511.py:15: RuntimeWarning: invalid value encountered in divide\n",
      "  gradient = np.exp(-yi*np.dot(w, xi))*yi*xi/(1 + np.exp(-yi*np.dot(w, xi))) + (2/sig2**2)*w\n",
      "C:\\Users\\17ago\\AppData\\Local\\Temp\\ipykernel_15544\\3663674511.py:19: RuntimeWarning: overflow encountered in exp\n",
      "  logistic_obj = np.sum(np.log(1 + np.exp(-yi*np.dot(w, xi)))) + (1 / sig2**2) * np.dot(w, w)\n",
      "C:\\Users\\17ago\\AppData\\Local\\Temp\\ipykernel_15544\\3663674511.py:15: RuntimeWarning: overflow encountered in exp\n",
      "  gradient = np.exp(-yi*np.dot(w, xi))*yi*xi/(1 + np.exp(-yi*np.dot(w, xi))) + (2/sig2**2)*w\n",
      "C:\\Users\\17ago\\AppData\\Local\\Temp\\ipykernel_15544\\3663674511.py:15: RuntimeWarning: invalid value encountered in multiply\n",
      "  gradient = np.exp(-yi*np.dot(w, xi))*yi*xi/(1 + np.exp(-yi*np.dot(w, xi))) + (2/sig2**2)*w\n",
      "C:\\Users\\17ago\\AppData\\Local\\Temp\\ipykernel_15544\\3663674511.py:15: RuntimeWarning: invalid value encountered in divide\n",
      "  gradient = np.exp(-yi*np.dot(w, xi))*yi*xi/(1 + np.exp(-yi*np.dot(w, xi))) + (2/sig2**2)*w\n",
      "C:\\Users\\17ago\\AppData\\Local\\Temp\\ipykernel_15544\\3663674511.py:19: RuntimeWarning: overflow encountered in exp\n",
      "  logistic_obj = np.sum(np.log(1 + np.exp(-yi*np.dot(w, xi)))) + (1 / sig2**2) * np.dot(w, w)\n",
      "C:\\Users\\17ago\\AppData\\Local\\Temp\\ipykernel_15544\\3663674511.py:15: RuntimeWarning: overflow encountered in exp\n",
      "  gradient = np.exp(-yi*np.dot(w, xi))*yi*xi/(1 + np.exp(-yi*np.dot(w, xi))) + (2/sig2**2)*w\n",
      "C:\\Users\\17ago\\AppData\\Local\\Temp\\ipykernel_15544\\3663674511.py:15: RuntimeWarning: invalid value encountered in multiply\n",
      "  gradient = np.exp(-yi*np.dot(w, xi))*yi*xi/(1 + np.exp(-yi*np.dot(w, xi))) + (2/sig2**2)*w\n",
      "C:\\Users\\17ago\\AppData\\Local\\Temp\\ipykernel_15544\\3663674511.py:15: RuntimeWarning: invalid value encountered in divide\n",
      "  gradient = np.exp(-yi*np.dot(w, xi))*yi*xi/(1 + np.exp(-yi*np.dot(w, xi))) + (2/sig2**2)*w\n"
     ]
    },
    {
     "name": "stdout",
     "output_type": "stream",
     "text": [
      "LR_0 = 1, sig2 = 0.1, avg_accuracy = 0.0\n",
      "LR_0 = 1, sig2 = 1, avg_accuracy = 0.4758857142857143\n",
      "LR_0 = 1, sig2 = 10, avg_accuracy = 0.4461142857142857\n",
      "LR_0 = 1, sig2 = 100, avg_accuracy = 0.4723428571428571\n",
      "LR_0 = 1, sig2 = 1000, avg_accuracy = 0.4614857142857143\n",
      "LR_0 = 1, sig2 = 10000, avg_accuracy = 0.45051428571428576\n",
      "LR_0 = 0.1, sig2 = 0.1, avg_accuracy = 0.48897142857142856\n",
      "LR_0 = 0.1, sig2 = 1, avg_accuracy = 0.4588\n",
      "LR_0 = 0.1, sig2 = 10, avg_accuracy = 0.45931428571428573\n",
      "LR_0 = 0.1, sig2 = 100, avg_accuracy = 0.4565714285714286\n",
      "LR_0 = 0.1, sig2 = 1000, avg_accuracy = 0.4378285714285714\n",
      "LR_0 = 0.1, sig2 = 10000, avg_accuracy = 0.43114285714285716\n",
      "LR_0 = 0.01, sig2 = 0.1, avg_accuracy = 0.41348571428571435\n",
      "LR_0 = 0.01, sig2 = 1, avg_accuracy = 0.3564\n",
      "LR_0 = 0.01, sig2 = 10, avg_accuracy = 0.44451428571428575\n",
      "LR_0 = 0.01, sig2 = 100, avg_accuracy = 0.4143428571428571\n",
      "LR_0 = 0.01, sig2 = 1000, avg_accuracy = 0.43971428571428567\n",
      "LR_0 = 0.01, sig2 = 10000, avg_accuracy = 0.4221142857142858\n",
      "LR_0 = 0.001, sig2 = 0.1, avg_accuracy = 0.3882857142857143\n",
      "LR_0 = 0.001, sig2 = 1, avg_accuracy = 0.39371428571428574\n",
      "LR_0 = 0.001, sig2 = 10, avg_accuracy = 0.39325714285714286\n",
      "LR_0 = 0.001, sig2 = 100, avg_accuracy = 0.39811428571428575\n",
      "LR_0 = 0.001, sig2 = 1000, avg_accuracy = 0.3860571428571428\n",
      "LR_0 = 0.001, sig2 = 10000, avg_accuracy = 0.4243428571428571\n",
      "LR_0 = 0.0001, sig2 = 0.1, avg_accuracy = 0.41411428571428577\n",
      "LR_0 = 0.0001, sig2 = 1, avg_accuracy = 0.43914285714285717\n",
      "LR_0 = 0.0001, sig2 = 10, avg_accuracy = 0.3616\n",
      "LR_0 = 0.0001, sig2 = 100, avg_accuracy = 0.3699428571428572\n",
      "LR_0 = 0.0001, sig2 = 1000, avg_accuracy = 0.3816\n",
      "LR_0 = 0.0001, sig2 = 10000, avg_accuracy = 0.39531428571428573\n",
      "LR_0 = 1e-05, sig2 = 0.1, avg_accuracy = 0.41365714285714283\n",
      "LR_0 = 1e-05, sig2 = 1, avg_accuracy = 0.41\n",
      "LR_0 = 1e-05, sig2 = 10, avg_accuracy = 0.3762857142857142\n",
      "LR_0 = 1e-05, sig2 = 100, avg_accuracy = 0.3484\n",
      "LR_0 = 1e-05, sig2 = 1000, avg_accuracy = 0.35634285714285713\n",
      "LR_0 = 1e-05, sig2 = 10000, avg_accuracy = 0.42857142857142855\n",
      "best Hyperparameters:  {'LR_0': 0.1, 'sig2': 0.1, 'avg_accuracy': 0.48897142857142856}\n"
     ]
    }
   ],
   "source": [
    "### testing: detemine best hyperparameters for Logistic SGD\n",
    "\n",
    "T = 100 # we probs (shouldn't) reach this, cause it should stop on its own cause we'll converge to the bottom of the bowl\n",
    "Logistic_obj_threshold = 0.001\n",
    "LR_0_arr = [1, .1, .01, .001, .0001, .00001]\n",
    "sig2_arr = [.1, 1, 10, 100, 1000, 10000]\n",
    "\n",
    "bestHyperparameters = {\"LR_0\": 0, \"sig2\": 0, \"avg_accuracy\": 0}\n",
    "\n",
    "train_folds = np.array_split(tfidf_train, 5)\n",
    "\n",
    "for LR_0 in LR_0_arr:\n",
    "    for sig2 in sig2_arr:\n",
    "        avg_accuracy = CV_logistic(train_folds, sig2, LR_0, T, Logistic_obj_threshold)\n",
    "        print(f'LR_0 = {LR_0}, sig2 = {sig2}, avg_accuracy = {avg_accuracy}')\n",
    "        if avg_accuracy > bestHyperparameters[\"avg_accuracy\"]:\n",
    "            bestHyperparameters[\"LR_0\"] = LR_0\n",
    "            bestHyperparameters[\"sig2\"] = sig2\n",
    "            bestHyperparameters[\"avg_accuracy\"] = avg_accuracy\n",
    "print(\"best Hyperparameters: \", bestHyperparameters)   "
   ]
  },
  {
   "cell_type": "code",
   "execution_count": null,
   "metadata": {},
   "outputs": [
    {
     "data": {
      "image/png": "[encoded data removed]",
      "text/plain": [
       "<Figure size 640x480 with 1 Axes>"
      ]
     },
     "metadata": {},
     "output_type": "display_data"
    },
    {
     "name": "stdout",
     "output_type": "stream",
     "text": [
      "On Test Set: -------------------\n",
      "Accuracy:  0.4622222222222222\n"
     ]
    }
   ],
   "source": [
    "### testing: using best hyperparameters, train model and test on test data\n",
    "\n",
    "#####\n",
    "train = tfidf_train\n",
    "test = tfidf_test\n",
    "#####\n",
    "\n",
    "LR_0 = bestHyperparameters[\"LR_0\"]\n",
    "sig2 = bestHyperparameters[\"sig2\"]\n",
    "\n",
    "train_data = train.drop('label', axis=1).values\n",
    "train_labels = train['label'].values\n",
    "\n",
    "w = Logistic_SGD(train_data, train_labels, LR_0, sig2, T, Logistic_obj_threshold, show_plot = True)\n",
    "\n",
    "test_data = test.drop('label', axis=1).values\n",
    "test_labels = test['label'].values\n",
    "N = len(test_data)\n",
    "correct = 0\n",
    "accuracy = 0\n",
    "for i in range(N):\n",
    "    # this is where we need to do the false/true positive/negative stuff\n",
    "    prediction = np.dot(w, test_data[i])\n",
    "    actual = test_labels[i] \n",
    "    if prediction > 0 and actual == 1:\n",
    "        correct += 1\n",
    "    elif prediction < 0 and actual == -1:\n",
    "        correct += 1\n",
    "accuracy = correct/N\n",
    "\n",
    "\n",
    "print(\"On Test Set: -------------------\")\n",
    "print(\"Accuracy: \", accuracy)\n"
   ]
  },
  {
   "cell_type": "code",
   "execution_count": null,
   "metadata": {},
   "outputs": [],
   "source": [
    "eval_guesses_to_csv(w, tfidf_eval.drop(columns=['label']), \"SVM_logistic.tfidf.eval.predictions.csv\")"
   ]
  }
 ],
 "metadata": {
  "kernelspec": {
   "display_name": "Python 3",
   "language": "python",
   "name": "python3"
  },
  "language_info": {
   "codemirror_mode": {
    "name": "ipython",
    "version": 3
   },
   "file_extension": ".py",
   "mimetype": "text/x-python",
   "name": "python",
   "nbconvert_exporter": "python",
   "pygments_lexer": "ipython3",
   "version": "3.11.9"
  }
 },
 "nbformat": 4,
 "nbformat_minor": 2
}
